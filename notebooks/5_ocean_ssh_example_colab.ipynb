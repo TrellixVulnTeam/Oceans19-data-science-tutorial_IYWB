{
  "nbformat": 4,
  "nbformat_minor": 0,
  "metadata": {
    "kernelspec": {
      "display_name": "Python 3",
      "language": "python",
      "name": "python3"
    },
    "language_info": {
      "codemirror_mode": {
        "name": "ipython",
        "version": 3
      },
      "file_extension": ".py",
      "mimetype": "text/x-python",
      "name": "python",
      "nbconvert_exporter": "python",
      "pygments_lexer": "ipython3",
      "version": "3.7.3"
    },
    "colab": {
      "name": "5_ocean_ssh_example_colab.ipynb",
      "provenance": [],
      "collapsed_sections": [],
      "include_colab_link": true
    }
  },
  "cells": [
    {
      "cell_type": "markdown",
      "metadata": {
        "id": "view-in-github",
        "colab_type": "text"
      },
      "source": [
        "<a href=\"https://colab.research.google.com/github/oceanhackweek/Oceans19-data-science-tutorial/blob/master/notebooks/5_ocean_ssh_example_colab.ipynb\" target=\"_parent\"><img src=\"https://colab.research.google.com/assets/colab-badge.svg\" alt=\"Open In Colab\"/></a>"
      ]
    },
    {
      "cell_type": "markdown",
      "metadata": {
        "id": "0hU6S4bupi0m",
        "colab_type": "text"
      },
      "source": [
        "# Sea Surface Altimetry Data Analysis\n",
        "\n",
        "<img src=\"http://marine.copernicus.eu/documents/IMG/SEALEVEL_GLO_SLA_MAP_L4_REP_OBSERVATIONS_008_027.png\" \n",
        "     width=\"15%\" \n",
        "     align=left\n",
        "     alt=\"Globe\">\n",
        "\n",
        "For this example we will use gridded [sea-surface altimetry data from The Copernicus Marine Environment](http://marine.copernicus.eu/services-portfolio/access-to-products/?option=com_csw&view=details&product_id=SEALEVEL_GLO_PHY_L4_REP_OBSERVATIONS_008_047):\n",
        "\n",
        "This is a widely used dataset in physical oceanography and climate.\n",
        "\n",
        "The dataset has already been extracted from copernicus and stored in google cloud storage in [xarray-zarr](http://xarray.pydata.org/en/latest/io.html#zarr) format."
      ]
    },
    {
      "cell_type": "code",
      "metadata": {
        "id": "saZ40eanpi0n",
        "colab_type": "code",
        "colab": {}
      },
      "source": [
        "%matplotlib inline\n",
        "\n",
        "import numpy as np\n",
        "import xarray as xr\n",
        "import matplotlib.pyplot as plt\n",
        "import dask.array as dsa\n",
        "\n",
        "plt.rcParams['figure.figsize'] = (15,10)"
      ],
      "execution_count": 0,
      "outputs": []
    },
    {
      "cell_type": "markdown",
      "metadata": {
        "id": "pDvZY8K8pi0r",
        "colab_type": "text"
      },
      "source": [
        "### Initialize Dataset\n",
        "\n",
        "Here we load the dataset from the zarr store. Note that this very large dataset initializes nearly instantly, and we can see the full list of variables and coordinates."
      ]
    },
    {
      "cell_type": "code",
      "metadata": {
        "id": "yaZmWZm_pwPB",
        "colab_type": "code",
        "colab": {}
      },
      "source": [
        "!pip install intake\n",
        "!pip install intake-xarray\n",
        "!pip install gcsfs"
      ],
      "execution_count": 0,
      "outputs": []
    },
    {
      "cell_type": "code",
      "metadata": {
        "id": "n0zW9QrFpi0s",
        "colab_type": "code",
        "colab": {}
      },
      "source": [
        "import intake\n",
        "cat = intake.Catalog(\"https://raw.githubusercontent.com/pangeo-data/pangeo-datastore/master/intake-catalogs/ocean.yaml\")\n",
        "ds = cat[\"sea_surface_height\"].to_dask()\n",
        "ds"
      ],
      "execution_count": 0,
      "outputs": []
    },
    {
      "cell_type": "markdown",
      "metadata": {
        "id": "PVcAcgimpi0v",
        "colab_type": "text"
      },
      "source": [
        "### Examine Metadata\n",
        "\n",
        "For those unfamiliar with this dataset, the variable metadata is very helpful for understanding what the variables actually represent"
      ]
    },
    {
      "cell_type": "code",
      "metadata": {
        "id": "Wg5CrKoOpi0w",
        "colab_type": "code",
        "colab": {}
      },
      "source": [
        "for v in ds.data_vars:\n",
        "    print('{:>10}: {}'.format(v, ds[v].attrs['long_name']))"
      ],
      "execution_count": 0,
      "outputs": []
    },
    {
      "cell_type": "markdown",
      "metadata": {
        "id": "m8Ln6FX3pi0z",
        "colab_type": "text"
      },
      "source": [
        "## Visually Examine Some of the Data\n",
        "\n",
        "Let's do a sanity check that the data looks reasonable:"
      ]
    },
    {
      "cell_type": "code",
      "metadata": {
        "id": "zWZuNfsLpi00",
        "colab_type": "code",
        "colab": {}
      },
      "source": [
        "plt.rcParams['figure.figsize'] = (15, 8)\n",
        "ds.sla.sel(time='2000-01-01', method='nearest').plot()"
      ],
      "execution_count": 0,
      "outputs": []
    },
    {
      "cell_type": "markdown",
      "metadata": {
        "id": "rvdVFMO9pi03",
        "colab_type": "text"
      },
      "source": [
        "### Same thing using interactive graphics"
      ]
    },
    {
      "cell_type": "code",
      "metadata": {
        "id": "sRtvJYB3sHl3",
        "colab_type": "code",
        "colab": {}
      },
      "source": [
        "!pip install bokeh==1.3.4\n",
        "!pip install datashader\n",
        "!pip install -q holoviews\n",
        "!pip install dask"
      ],
      "execution_count": 0,
      "outputs": []
    },
    {
      "cell_type": "code",
      "metadata": {
        "id": "J_n-eyJSpi04",
        "colab_type": "code",
        "colab": {}
      },
      "source": [
        "import holoviews as hv\n",
        "from holoviews.operation.datashader import regrid\n",
        "hv.extension('bokeh')"
      ],
      "execution_count": 0,
      "outputs": []
    },
    {
      "cell_type": "code",
      "metadata": {
        "id": "hl2DkenDHUhr",
        "colab_type": "code",
        "colab": {}
      },
      "source": [
        ""
      ],
      "execution_count": 0,
      "outputs": []
    },
    {
      "cell_type": "code",
      "metadata": {
        "id": "CLN9RI_KGmdf",
        "colab_type": "code",
        "colab": {}
      },
      "source": [
        ""
      ],
      "execution_count": 0,
      "outputs": []
    },
    {
      "cell_type": "code",
      "metadata": {
        "id": "9HjZ4WYTrOGo",
        "colab_type": "code",
        "colab": {}
      },
      "source": [
        "import os\n",
        "os.environ['HV_DOC_HTML'] = 'true'\n",
        "#%env HV_DOC_HTML=true\n",
        "\n",
        "import numpy as np\n",
        "from bokeh.plotting import figure, show\n",
        "from bokeh.io import output_notebook\n",
        "output_notebook()"
      ],
      "execution_count": 0,
      "outputs": []
    },
    {
      "cell_type": "code",
      "metadata": {
        "id": "W5pUplMKpi06",
        "colab_type": "code",
        "colab": {}
      },
      "source": [
        "hv.extension('bokeh')\n",
        "dataset = hv.Dataset(ds.sla)#.sel(time=slice('2000-01-01', '2001-01-02')))\n",
        "hv_im = (dataset.to(hv.Image, ['longitude', 'latitude'], dynamic=True)\n",
        "                #.redim.range(sla=(-0.5, 0.5))\n",
        "                .options(cmap='RdBu_r', width=800, height=450, colorbar=True))\n",
        "\n",
        "#%output holomap='scrubber' fps=2\n",
        "regrid(hv_im, precompute=True)"
      ],
      "execution_count": 0,
      "outputs": []
    },
    {
      "cell_type": "markdown",
      "metadata": {
        "id": "73i0mbKZpi09",
        "colab_type": "text"
      },
      "source": [
        "### Create and Connect to Dask Distributed Cluster"
      ]
    },
    {
      "cell_type": "code",
      "metadata": {
        "id": "KxdYFNdJpi0-",
        "colab_type": "code",
        "colab": {}
      },
      "source": [
        "from dask.distributed import Client, progress"
      ],
      "execution_count": 0,
      "outputs": []
    },
    {
      "cell_type": "markdown",
      "metadata": {
        "id": "Z-Yo9YJbpi1B",
        "colab_type": "text"
      },
      "source": [
        "** ☝️ Don't forget to click the link above to view the scheduler dashboard! **"
      ]
    },
    {
      "cell_type": "code",
      "metadata": {
        "id": "q4qni8KHpi1B",
        "colab_type": "code",
        "colab": {}
      },
      "source": [
        "client = Client()\n",
        "client"
      ],
      "execution_count": 0,
      "outputs": []
    },
    {
      "cell_type": "code",
      "metadata": {
        "id": "xm09cTjzIVFL",
        "colab_type": "code",
        "colab": {}
      },
      "source": [
        ""
      ],
      "execution_count": 0,
      "outputs": []
    },
    {
      "cell_type": "markdown",
      "metadata": {
        "id": "JGs0GCkkpi1F",
        "colab_type": "text"
      },
      "source": [
        "## Timeseries of Global Mean Sea Level\n",
        "\n",
        "Here we make a simple yet fundamental calculation: the rate of increase of global mean sea level over the observational period."
      ]
    },
    {
      "cell_type": "code",
      "metadata": {
        "id": "XssgNH8ppi1G",
        "colab_type": "code",
        "colab": {}
      },
      "source": [
        "# the number of GB involved in the reduction\n",
        "ds.sla.nbytes/1e9"
      ],
      "execution_count": 0,
      "outputs": []
    },
    {
      "cell_type": "code",
      "metadata": {
        "id": "gTLCxHlMpi1K",
        "colab_type": "code",
        "colab": {}
      },
      "source": [
        "# the computationally intensive step\n",
        "sla_timeseries = ds.sla.mean(dim=('latitude', 'longitude')).load()"
      ],
      "execution_count": 0,
      "outputs": []
    },
    {
      "cell_type": "code",
      "metadata": {
        "id": "gE5zqDvUpi1O",
        "colab_type": "code",
        "colab": {}
      },
      "source": [
        "sla_timeseries.plot(label='full data')\n",
        "sla_timeseries.rolling(time=365, center=True).mean().plot(label='rolling annual mean')\n",
        "plt.ylabel('Sea Level Anomaly [m]')\n",
        "plt.title('Global Mean Sea Level')\n",
        "plt.legend()\n",
        "plt.grid()"
      ],
      "execution_count": 0,
      "outputs": []
    },
    {
      "cell_type": "markdown",
      "metadata": {
        "id": "wSG6tS0cpi1R",
        "colab_type": "text"
      },
      "source": [
        "In order to understand how the sea level rise is distributed in latitude, we can make a sort of [Hovmöller diagram](https://en.wikipedia.org/wiki/Hovm%C3%B6ller_diagram)."
      ]
    },
    {
      "cell_type": "code",
      "metadata": {
        "id": "gsiHhY6rpi1R",
        "colab_type": "code",
        "colab": {}
      },
      "source": [
        "sla_hov = ds.sla.mean(dim='longitude').load()"
      ],
      "execution_count": 0,
      "outputs": []
    },
    {
      "cell_type": "code",
      "metadata": {
        "id": "xjgrzgplpi1V",
        "colab_type": "code",
        "colab": {}
      },
      "source": [
        "fig, ax = plt.subplots(figsize=(12, 4))\n",
        "sla_hov.name = 'Sea Level Anomaly [m]'\n",
        "sla_hov.transpose().plot(vmax=0.2, ax=ax)"
      ],
      "execution_count": 0,
      "outputs": []
    },
    {
      "cell_type": "markdown",
      "metadata": {
        "id": "-ycHDkhrpi1Y",
        "colab_type": "text"
      },
      "source": [
        "We can see that most sea level rise is actually in the Southern Hemisphere."
      ]
    },
    {
      "cell_type": "markdown",
      "metadata": {
        "id": "O6iBctXUpi1Z",
        "colab_type": "text"
      },
      "source": [
        "## Sea Level Variability\n",
        "\n",
        "We can examine the natural variability in sea level by looking at its standard deviation in time."
      ]
    },
    {
      "cell_type": "code",
      "metadata": {
        "id": "9g_D5tAbpi1a",
        "colab_type": "code",
        "colab": {}
      },
      "source": [
        "sla_std = ds.sla.std(dim='time').load()\n",
        "sla_std.name = 'Sea Level Variability [m]'"
      ],
      "execution_count": 0,
      "outputs": []
    },
    {
      "cell_type": "code",
      "metadata": {
        "id": "6vhbV2kRpi1c",
        "colab_type": "code",
        "colab": {}
      },
      "source": [
        "ax = sla_std.plot()\n",
        "_ = plt.title('Sea Level Variability')"
      ],
      "execution_count": 0,
      "outputs": []
    }
  ]
}