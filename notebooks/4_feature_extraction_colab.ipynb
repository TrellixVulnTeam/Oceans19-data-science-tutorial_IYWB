{
  "nbformat": 4,
  "nbformat_minor": 0,
  "metadata": {
    "anaconda-cloud": {},
    "celltoolbar": "Slideshow",
    "kernelspec": {
      "display_name": "Python 3",
      "language": "python",
      "name": "python3"
    },
    "language_info": {
      "codemirror_mode": {
        "name": "ipython",
        "version": 3
      },
      "file_extension": ".py",
      "mimetype": "text/x-python",
      "name": "python",
      "nbconvert_exporter": "python",
      "pygments_lexer": "ipython3",
      "version": "3.7.3"
    },
    "colab": {
      "name": "4_feature_extraction_colab.ipynb",
      "provenance": [],
      "collapsed_sections": [],
      "include_colab_link": true
    }
  },
  "cells": [
    {
      "cell_type": "markdown",
      "metadata": {
        "id": "view-in-github",
        "colab_type": "text"
      },
      "source": [
        "<a href=\"https://colab.research.google.com/github/oceanhackweek/Oceans19-data-science-tutorial/blob/master/notebooks/4_feature_extraction_colab.ipynb\" target=\"_parent\"><img src=\"https://colab.research.google.com/assets/colab-badge.svg\" alt=\"Open In Colab\"/></a>"
      ]
    },
    {
      "cell_type": "markdown",
      "metadata": {
        "id": "YNHffG8zy7vN",
        "colab_type": "text"
      },
      "source": [
        "## Whale Sound Exploration\n",
        "\n",
        "In this tutorial we will explore some data which contain right whale up-calls. The dataset was shared as part of a [2013 Kaggle competition](https://www.kaggle.com/c/whale-detection-challenge). Our goal is not to show the best winning algorithm to detect a call, but share a simple pipeline for processing oscillatory data, which possibly can be used on wide range of time series.\n",
        "\n",
        "Objectives:\n",
        "* read and extract features form audio data\n",
        "* apply dimensionality reduction techiques\n",
        "* perform supervised classification\n",
        "* learn how to evaluate machine learning models\n",
        "* train a neural network to detect whale calls"
      ]
    },
    {
      "cell_type": "markdown",
      "metadata": {
        "id": "EFr8DD6wy7vP",
        "colab_type": "text"
      },
      "source": [
        "### Data Loading and Exploration\n",
        "---"
      ]
    },
    {
      "cell_type": "code",
      "metadata": {
        "id": "iLLMU3Ady7vU",
        "colab_type": "code",
        "colab": {}
      },
      "source": [
        "# ignore warnings\n",
        "import warnings\n",
        "warnings.filterwarnings(\"ignore\")"
      ],
      "execution_count": 0,
      "outputs": []
    },
    {
      "cell_type": "code",
      "metadata": {
        "id": "phgB8Lxiy7vY",
        "colab_type": "code",
        "colab": {}
      },
      "source": [
        "# importing multiple visualization libraries\n",
        "%matplotlib inline\n",
        "import matplotlib.pyplot as plt\n",
        "from matplotlib import mlab\n",
        "import pylab as pl\n",
        "import seaborn"
      ],
      "execution_count": 0,
      "outputs": []
    },
    {
      "cell_type": "code",
      "metadata": {
        "id": "n4Knb6tXy7vc",
        "colab_type": "code",
        "colab": {}
      },
      "source": [
        "# importing libraries to manipulate the data files\n",
        "import os\n",
        "from glob import glob"
      ],
      "execution_count": 0,
      "outputs": []
    },
    {
      "cell_type": "code",
      "metadata": {
        "id": "sra6ezOzy7vg",
        "colab_type": "code",
        "colab": {}
      },
      "source": [
        "# importing scientific python packages\n",
        "import numpy as np"
      ],
      "execution_count": 0,
      "outputs": []
    },
    {
      "cell_type": "code",
      "metadata": {
        "id": "5R_3aBysy7vj",
        "colab_type": "code",
        "colab": {}
      },
      "source": [
        "# import a library to read the .aiff format\n",
        "import aifc"
      ],
      "execution_count": 0,
      "outputs": []
    },
    {
      "cell_type": "markdown",
      "metadata": {
        "id": "HVPkBpuLy7vn",
        "colab_type": "text"
      },
      "source": [
        "The `train` folder contains many `.aiff` files (2 second snippets) and we have `.csv` document which contains the corresponding labels. "
      ]
    },
    {
      "cell_type": "code",
      "metadata": {
        "id": "ttI_-U56o58O",
        "colab_type": "code",
        "outputId": "5db45d29-a33d-48b9-aa9e-8f3a020cdcaf",
        "colab": {
          "base_uri": "https://localhost:8080/",
          "height": 391
        }
      },
      "source": [
        "!wget http://oceanhackweek2018.s3.amazonaws.com/oceans_data/train.tar.gz\n",
        "!wget http://oceanhackweek2018.s3.amazonaws.com/oceans_data/labels.csv"
      ],
      "execution_count": 0,
      "outputs": [
        {
          "output_type": "stream",
          "text": [
            "--2019-10-31 10:19:20--  http://oceanhackweek2018.s3.amazonaws.com/oceans_data/train.tar.gz\n",
            "Resolving oceanhackweek2018.s3.amazonaws.com (oceanhackweek2018.s3.amazonaws.com)... 52.218.241.34\n",
            "Connecting to oceanhackweek2018.s3.amazonaws.com (oceanhackweek2018.s3.amazonaws.com)|52.218.241.34|:80... connected.\n",
            "HTTP request sent, awaiting response... 200 OK\n",
            "Length: 64212938 (61M) [application/x-gzip]\n",
            "Saving to: ‘train.tar.gz’\n",
            "\n",
            "train.tar.gz        100%[===================>]  61.24M  17.3MB/s    in 3.5s    \n",
            "\n",
            "2019-10-31 10:19:24 (17.3 MB/s) - ‘train.tar.gz’ saved [64212938/64212938]\n",
            "\n",
            "--2019-10-31 10:19:24--  http://oceanhackweek2018.s3.amazonaws.com/oceans_data/labels.csv\n",
            "Resolving oceanhackweek2018.s3.amazonaws.com (oceanhackweek2018.s3.amazonaws.com)... 52.218.234.43\n",
            "Connecting to oceanhackweek2018.s3.amazonaws.com (oceanhackweek2018.s3.amazonaws.com)|52.218.234.43|:80... connected.\n",
            "HTTP request sent, awaiting response... 200 OK\n",
            "Length: 540016 (527K) [text/csv]\n",
            "Saving to: ‘labels.csv’\n",
            "\n",
            "labels.csv          100%[===================>] 527.36K   786KB/s    in 0.7s    \n",
            "\n",
            "2019-10-31 10:19:25 (786 KB/s) - ‘labels.csv’ saved [540016/540016]\n",
            "\n"
          ],
          "name": "stdout"
        }
      ]
    },
    {
      "cell_type": "code",
      "metadata": {
        "id": "Tn51PspH4uEZ",
        "colab_type": "code",
        "colab": {}
      },
      "source": [
        "!tar xvzf train.tar.gz"
      ],
      "execution_count": 0,
      "outputs": []
    },
    {
      "cell_type": "code",
      "metadata": {
        "id": "17Ntca5Jy7vr",
        "colab_type": "code",
        "outputId": "f45631d6-72a1-46cf-9a84-8411a8f6d0f9",
        "colab": {
          "base_uri": "https://localhost:8080/",
          "height": 34
        }
      },
      "source": [
        "# read the audio filenames\n",
        "filenames = sorted(glob(os.path.join('train','*.aiff')))\n",
        "print('There are '+str(len(filenames))+' files.' )"
      ],
      "execution_count": 0,
      "outputs": [
        {
          "output_type": "stream",
          "text": [
            "There are 9999 files.\n"
          ],
          "name": "stdout"
        }
      ]
    },
    {
      "cell_type": "code",
      "metadata": {
        "id": "2mje_DSoy7vt",
        "colab_type": "code",
        "colab": {}
      },
      "source": [
        "# read the labels\n",
        "import pandas as pd\n",
        "labels = pd.read_csv(os.path.join('labels.csv'), index_col = 0)"
      ],
      "execution_count": 0,
      "outputs": []
    },
    {
      "cell_type": "markdown",
      "metadata": {
        "id": "Y84tZ7yvy7vw",
        "colab_type": "text"
      },
      "source": [
        "The format of the labels is:"
      ]
    },
    {
      "cell_type": "code",
      "metadata": {
        "id": "siKEhN_9y7vx",
        "colab_type": "code",
        "outputId": "d38b2523-bbef-431f-baa9-f4692369d725",
        "colab": {
          "base_uri": "https://localhost:8080/",
          "height": 390
        }
      },
      "source": [
        "labels.head(10)"
      ],
      "execution_count": 0,
      "outputs": [
        {
          "output_type": "execute_result",
          "data": {
            "text/html": [
              "<div>\n",
              "<style scoped>\n",
              "    .dataframe tbody tr th:only-of-type {\n",
              "        vertical-align: middle;\n",
              "    }\n",
              "\n",
              "    .dataframe tbody tr th {\n",
              "        vertical-align: top;\n",
              "    }\n",
              "\n",
              "    .dataframe thead th {\n",
              "        text-align: right;\n",
              "    }\n",
              "</style>\n",
              "<table border=\"1\" class=\"dataframe\">\n",
              "  <thead>\n",
              "    <tr style=\"text-align: right;\">\n",
              "      <th></th>\n",
              "      <th>label</th>\n",
              "    </tr>\n",
              "    <tr>\n",
              "      <th>clip_name</th>\n",
              "      <th></th>\n",
              "    </tr>\n",
              "  </thead>\n",
              "  <tbody>\n",
              "    <tr>\n",
              "      <th>train00001.aiff</th>\n",
              "      <td>0</td>\n",
              "    </tr>\n",
              "    <tr>\n",
              "      <th>train00002.aiff</th>\n",
              "      <td>0</td>\n",
              "    </tr>\n",
              "    <tr>\n",
              "      <th>train00003.aiff</th>\n",
              "      <td>0</td>\n",
              "    </tr>\n",
              "    <tr>\n",
              "      <th>train00004.aiff</th>\n",
              "      <td>0</td>\n",
              "    </tr>\n",
              "    <tr>\n",
              "      <th>train00005.aiff</th>\n",
              "      <td>0</td>\n",
              "    </tr>\n",
              "    <tr>\n",
              "      <th>train00006.aiff</th>\n",
              "      <td>1</td>\n",
              "    </tr>\n",
              "    <tr>\n",
              "      <th>train00007.aiff</th>\n",
              "      <td>1</td>\n",
              "    </tr>\n",
              "    <tr>\n",
              "      <th>train00008.aiff</th>\n",
              "      <td>0</td>\n",
              "    </tr>\n",
              "    <tr>\n",
              "      <th>train00009.aiff</th>\n",
              "      <td>1</td>\n",
              "    </tr>\n",
              "    <tr>\n",
              "      <th>train00010.aiff</th>\n",
              "      <td>0</td>\n",
              "    </tr>\n",
              "  </tbody>\n",
              "</table>\n",
              "</div>"
            ],
            "text/plain": [
              "                 label\n",
              "clip_name             \n",
              "train00001.aiff      0\n",
              "train00002.aiff      0\n",
              "train00003.aiff      0\n",
              "train00004.aiff      0\n",
              "train00005.aiff      0\n",
              "train00006.aiff      1\n",
              "train00007.aiff      1\n",
              "train00008.aiff      0\n",
              "train00009.aiff      1\n",
              "train00010.aiff      0"
            ]
          },
          "metadata": {
            "tags": []
          },
          "execution_count": 10
        }
      ]
    },
    {
      "cell_type": "markdown",
      "metadata": {
        "id": "TlYoKd8hy7vz",
        "colab_type": "text"
      },
      "source": [
        "Let's look at one of those files."
      ]
    },
    {
      "cell_type": "code",
      "metadata": {
        "id": "Y_t4wCqEy7v0",
        "colab_type": "code",
        "outputId": "3c511935-dc41-47f8-9b02-a22e174a9576",
        "colab": {
          "base_uri": "https://localhost:8080/",
          "height": 51
        }
      },
      "source": [
        "# reading the file info\n",
        "whale_sample_file = 'train00006.aiff'\n",
        "whale_aiff = aifc.open(os.path.join('train',whale_sample_file),'r')\n",
        "print (\"Frames:\", whale_aiff.getnframes() )\n",
        "print (\"Frame rate (frames per second):\", whale_aiff.getframerate())"
      ],
      "execution_count": 0,
      "outputs": [
        {
          "output_type": "stream",
          "text": [
            "Frames: 4000\n",
            "Frame rate (frames per second): 2000\n"
          ],
          "name": "stdout"
        }
      ]
    },
    {
      "cell_type": "code",
      "metadata": {
        "id": "gaJ2XDaGy7v2",
        "colab_type": "code",
        "outputId": "8ba787dc-1ad6-4dbb-bf3f-eb35e30536d7",
        "colab": {
          "base_uri": "https://localhost:8080/",
          "height": 296
        }
      },
      "source": [
        "# reading the data\n",
        "whale_strSig = whale_aiff.readframes(whale_aiff.getnframes())\n",
        "whale_array = np.fromstring(whale_strSig, np.short).byteswap()\n",
        "plt.plot(whale_array)\n",
        "plt.xlabel('Frame number')"
      ],
      "execution_count": 0,
      "outputs": [
        {
          "output_type": "execute_result",
          "data": {
            "text/plain": [
              "Text(0.5, 0, 'Frame number')"
            ]
          },
          "metadata": {
            "tags": []
          },
          "execution_count": 12
        },
        {
          "output_type": "display_data",
          "data": {
            "image/png": "[encoded data removed]",
            "text/plain": [
              "<Figure size 432x288 with 1 Axes>"
            ]
          },
          "metadata": {
            "tags": []
          }
        }
      ]
    },
    {
      "cell_type": "code",
      "metadata": {
        "id": "IMtGVMY0y7v7",
        "colab_type": "code",
        "colab": {}
      },
      "source": [
        "signal = whale_array.astype('float64')"
      ],
      "execution_count": 0,
      "outputs": []
    },
    {
      "cell_type": "code",
      "metadata": {
        "id": "b18_9JN6y7v-",
        "colab_type": "code",
        "colab": {}
      },
      "source": [
        "# playing a whale upcall in the notebook\n",
        "from IPython.display import Audio\n",
        "# Audio(signal, rate=3000, autoplay = True)# the rate is set to 3000 make the widget to run (seems the widget does not run with rate below 3000)"
      ],
      "execution_count": 0,
      "outputs": []
    },
    {
      "cell_type": "markdown",
      "metadata": {
        "id": "4SzTuSjjy7wA",
        "colab_type": "text"
      },
      "source": [
        "Working directly with the signals is hard (there is important frequency information). Let's calculate the spectrograms for each of the signals and use as features."
      ]
    },
    {
      "cell_type": "code",
      "metadata": {
        "id": "cjTDlmE4y7wB",
        "colab_type": "code",
        "colab": {}
      },
      "source": [
        "# a function for plotting spectrograms\n",
        "def PlotSpecgram(P, freqs, bins):\n",
        "    \"\"\"Spectrogram\"\"\"\n",
        "    Z = np.flipud(P) # flip rows so that top goes to bottom, bottom to top, etc.\n",
        "    xextent = 0, np.amax(bins)\n",
        "    xmin, xmax = xextent\n",
        "    extent = xmin, xmax, freqs[0], freqs[-1]\n",
        "    im = pl.imshow(Z, extent=extent,cmap = 'plasma')\n",
        "    pl.axis('auto')\n",
        "    pl.xlim([0.0, bins[-1]])\n",
        "    pl.ylim([0, freqs[-1]])"
      ],
      "execution_count": 0,
      "outputs": []
    },
    {
      "cell_type": "code",
      "metadata": {
        "id": "N5o3v8t_y7wD",
        "colab_type": "code",
        "outputId": "fc239932-1054-44f2-a92b-b14cacda98e4",
        "colab": {
          "base_uri": "https://localhost:8080/",
          "height": 298
        }
      },
      "source": [
        "params = {'NFFT':256, 'Fs':2000, 'noverlap':192}\n",
        "P, freqs, bins = mlab.specgram(whale_array, **params)\n",
        "PlotSpecgram(P, freqs, bins)\n",
        "plt.title('Spectrogram with an Upcall')"
      ],
      "execution_count": 0,
      "outputs": [
        {
          "output_type": "execute_result",
          "data": {
            "text/plain": [
              "Text(0.5, 1.0, 'Spectrogram with an Upcall')"
            ]
          },
          "metadata": {
            "tags": []
          },
          "execution_count": 16
        },
        {
          "output_type": "display_data",
          "data": {
            "image/png": "[encoded data removed]",
            "text/plain": [
              "<Figure size 432x288 with 1 Axes>"
            ]
          },
          "metadata": {
            "tags": []
          }
        }
      ]
    },
    {
      "cell_type": "markdown",
      "metadata": {
        "id": "dUZ9wigky7wF",
        "colab_type": "text"
      },
      "source": [
        "### Feature Extraction\n",
        "---"
      ]
    },
    {
      "cell_type": "markdown",
      "metadata": {
        "id": "RJU6wlQ4y7wG",
        "colab_type": "text"
      },
      "source": [
        "We will go through the files and extract the spectrograms from each of them. We will do it for the first N files."
      ]
    },
    {
      "cell_type": "code",
      "metadata": {
        "id": "6u9WnA9zy7wG",
        "colab_type": "code",
        "colab": {}
      },
      "source": [
        "N = 10000 #number of files to use"
      ],
      "execution_count": 0,
      "outputs": []
    },
    {
      "cell_type": "code",
      "metadata": {
        "id": "bZzK7UAGy7wI",
        "colab_type": "code",
        "colab": {}
      },
      "source": [
        "# create a dictionary which contains all the spectrograms, labeled by the filename\n",
        "spec_dict = {}\n",
        "\n",
        "# threshold to cut higher frequencies\n",
        "m = 60\n",
        "\n",
        "# loop through all the files\n",
        "for filename in filenames[:N]:\n",
        "    # read the file\n",
        "    aiff = aifc.open(filename,'r')\n",
        "    whale_strSig = aiff.readframes(aiff.getnframes())\n",
        "    whale_array = np.fromstring(whale_strSig, np.short).byteswap()\n",
        "    # create the spectrogram\n",
        "    P, freqs, bins = mlab.specgram(whale_array, **params)\n",
        "    spec_dict[filename] = P[:m,:]\n",
        "\n",
        "# save the dimensions of the spectrogram\n",
        "spec_dim = P[:m,:].shape    "
      ],
      "execution_count": 0,
      "outputs": []
    },
    {
      "cell_type": "code",
      "metadata": {
        "id": "AjOn7brHy7wL",
        "colab_type": "code",
        "colab": {}
      },
      "source": [
        ""
      ],
      "execution_count": 0,
      "outputs": []
    },
    {
      "cell_type": "markdown",
      "metadata": {
        "id": "J5E2nLgNy7wP",
        "colab_type": "text"
      },
      "source": [
        "Most machine learning algorithms in Python expect the data to come in a format **observations** x **features**. In order to get the data in this format we need to convert the two-dimensional spectrogram into a long vector. For that we will use the `ravel` function."
      ]
    },
    {
      "cell_type": "code",
      "metadata": {
        "id": "ewDY8LKoy7wQ",
        "colab_type": "code",
        "colab": {}
      },
      "source": [
        "# We will put the data in a dictionary\n",
        "feature_dict = {}\n",
        "for key in filenames[:N]:\n",
        "    # vectorize the spectrogram\n",
        "    feature_dict[key.split('/')[-1]] = spec_dict[key].ravel()\n",
        "\n",
        "# convert to a pandas dataframe\n",
        "X = pd.DataFrame(feature_dict).T"
      ],
      "execution_count": 0,
      "outputs": []
    },
    {
      "cell_type": "code",
      "metadata": {
        "id": "MYpWxhsKy7wU",
        "colab_type": "code",
        "outputId": "4a0a2348-4d51-4baf-e472-18d261284071",
        "colab": {
          "base_uri": "https://localhost:8080/",
          "height": 253
        }
      },
      "source": [
        "X.head(5)"
      ],
      "execution_count": 0,
      "outputs": [
        {
          "output_type": "execute_result",
          "data": {
            "text/html": [
              "<div>\n",
              "<style scoped>\n",
              "    .dataframe tbody tr th:only-of-type {\n",
              "        vertical-align: middle;\n",
              "    }\n",
              "\n",
              "    .dataframe tbody tr th {\n",
              "        vertical-align: top;\n",
              "    }\n",
              "\n",
              "    .dataframe thead th {\n",
              "        text-align: right;\n",
              "    }\n",
              "</style>\n",
              "<table border=\"1\" class=\"dataframe\">\n",
              "  <thead>\n",
              "    <tr style=\"text-align: right;\">\n",
              "      <th></th>\n",
              "      <th>0</th>\n",
              "      <th>1</th>\n",
              "      <th>2</th>\n",
              "      <th>3</th>\n",
              "      <th>4</th>\n",
              "      <th>5</th>\n",
              "      <th>6</th>\n",
              "      <th>7</th>\n",
              "      <th>8</th>\n",
              "      <th>9</th>\n",
              "      <th>10</th>\n",
              "      <th>11</th>\n",
              "      <th>12</th>\n",
              "      <th>13</th>\n",
              "      <th>14</th>\n",
              "      <th>15</th>\n",
              "      <th>16</th>\n",
              "      <th>17</th>\n",
              "      <th>18</th>\n",
              "      <th>19</th>\n",
              "      <th>20</th>\n",
              "      <th>21</th>\n",
              "      <th>22</th>\n",
              "      <th>23</th>\n",
              "      <th>24</th>\n",
              "      <th>25</th>\n",
              "      <th>26</th>\n",
              "      <th>27</th>\n",
              "      <th>28</th>\n",
              "      <th>29</th>\n",
              "      <th>30</th>\n",
              "      <th>31</th>\n",
              "      <th>32</th>\n",
              "      <th>33</th>\n",
              "      <th>34</th>\n",
              "      <th>35</th>\n",
              "      <th>36</th>\n",
              "      <th>37</th>\n",
              "      <th>38</th>\n",
              "      <th>39</th>\n",
              "      <th>...</th>\n",
              "      <th>3500</th>\n",
              "      <th>3501</th>\n",
              "      <th>3502</th>\n",
              "      <th>3503</th>\n",
              "      <th>3504</th>\n",
              "      <th>3505</th>\n",
              "      <th>3506</th>\n",
              "      <th>3507</th>\n",
              "      <th>3508</th>\n",
              "      <th>3509</th>\n",
              "      <th>3510</th>\n",
              "      <th>3511</th>\n",
              "      <th>3512</th>\n",
              "      <th>3513</th>\n",
              "      <th>3514</th>\n",
              "      <th>3515</th>\n",
              "      <th>3516</th>\n",
              "      <th>3517</th>\n",
              "      <th>3518</th>\n",
              "      <th>3519</th>\n",
              "      <th>3520</th>\n",
              "      <th>3521</th>\n",
              "      <th>3522</th>\n",
              "      <th>3523</th>\n",
              "      <th>3524</th>\n",
              "      <th>3525</th>\n",
              "      <th>3526</th>\n",
              "      <th>3527</th>\n",
              "      <th>3528</th>\n",
              "      <th>3529</th>\n",
              "      <th>3530</th>\n",
              "      <th>3531</th>\n",
              "      <th>3532</th>\n",
              "      <th>3533</th>\n",
              "      <th>3534</th>\n",
              "      <th>3535</th>\n",
              "      <th>3536</th>\n",
              "      <th>3537</th>\n",
              "      <th>3538</th>\n",
              "      <th>3539</th>\n",
              "    </tr>\n",
              "  </thead>\n",
              "  <tbody>\n",
              "    <tr>\n",
              "      <th>train00001.aiff</th>\n",
              "      <td>0.133811</td>\n",
              "      <td>0.072258</td>\n",
              "      <td>0.109525</td>\n",
              "      <td>0.084067</td>\n",
              "      <td>0.139019</td>\n",
              "      <td>0.091778</td>\n",
              "      <td>0.259104</td>\n",
              "      <td>0.067828</td>\n",
              "      <td>0.111568</td>\n",
              "      <td>0.091280</td>\n",
              "      <td>0.049876</td>\n",
              "      <td>0.088886</td>\n",
              "      <td>0.046364</td>\n",
              "      <td>0.075641</td>\n",
              "      <td>0.078474</td>\n",
              "      <td>0.211600</td>\n",
              "      <td>0.160129</td>\n",
              "      <td>0.273311</td>\n",
              "      <td>0.154020</td>\n",
              "      <td>0.024010</td>\n",
              "      <td>0.055225</td>\n",
              "      <td>0.061725</td>\n",
              "      <td>0.109431</td>\n",
              "      <td>0.075634</td>\n",
              "      <td>0.094736</td>\n",
              "      <td>0.096245</td>\n",
              "      <td>0.092945</td>\n",
              "      <td>0.082901</td>\n",
              "      <td>0.117922</td>\n",
              "      <td>0.086648</td>\n",
              "      <td>0.133119</td>\n",
              "      <td>0.071921</td>\n",
              "      <td>0.099577</td>\n",
              "      <td>0.113001</td>\n",
              "      <td>0.097602</td>\n",
              "      <td>0.091477</td>\n",
              "      <td>0.146383</td>\n",
              "      <td>0.115131</td>\n",
              "      <td>0.088140</td>\n",
              "      <td>0.101934</td>\n",
              "      <td>...</td>\n",
              "      <td>587.514627</td>\n",
              "      <td>506.076265</td>\n",
              "      <td>716.168779</td>\n",
              "      <td>128.276817</td>\n",
              "      <td>102.288436</td>\n",
              "      <td>251.733717</td>\n",
              "      <td>98.943106</td>\n",
              "      <td>39.495823</td>\n",
              "      <td>29.850828</td>\n",
              "      <td>182.604394</td>\n",
              "      <td>132.139531</td>\n",
              "      <td>2.188380</td>\n",
              "      <td>59.566224</td>\n",
              "      <td>269.824344</td>\n",
              "      <td>420.496190</td>\n",
              "      <td>180.178343</td>\n",
              "      <td>406.054973</td>\n",
              "      <td>80.763061</td>\n",
              "      <td>31.064312</td>\n",
              "      <td>113.961366</td>\n",
              "      <td>243.676917</td>\n",
              "      <td>165.261082</td>\n",
              "      <td>54.621168</td>\n",
              "      <td>153.097909</td>\n",
              "      <td>386.389726</td>\n",
              "      <td>313.323177</td>\n",
              "      <td>58.215042</td>\n",
              "      <td>303.758550</td>\n",
              "      <td>66.044548</td>\n",
              "      <td>124.149181</td>\n",
              "      <td>323.757739</td>\n",
              "      <td>177.865058</td>\n",
              "      <td>69.035604</td>\n",
              "      <td>236.470513</td>\n",
              "      <td>95.348852</td>\n",
              "      <td>45.818186</td>\n",
              "      <td>62.494202</td>\n",
              "      <td>58.682033</td>\n",
              "      <td>27.582614</td>\n",
              "      <td>13.677962</td>\n",
              "    </tr>\n",
              "    <tr>\n",
              "      <th>train00002.aiff</th>\n",
              "      <td>0.020418</td>\n",
              "      <td>0.028692</td>\n",
              "      <td>0.106837</td>\n",
              "      <td>0.106685</td>\n",
              "      <td>0.101734</td>\n",
              "      <td>0.112110</td>\n",
              "      <td>0.104971</td>\n",
              "      <td>0.107934</td>\n",
              "      <td>0.113314</td>\n",
              "      <td>0.110579</td>\n",
              "      <td>0.115226</td>\n",
              "      <td>0.104269</td>\n",
              "      <td>0.110194</td>\n",
              "      <td>0.104160</td>\n",
              "      <td>0.102205</td>\n",
              "      <td>0.112573</td>\n",
              "      <td>0.106447</td>\n",
              "      <td>0.098071</td>\n",
              "      <td>0.099912</td>\n",
              "      <td>0.093195</td>\n",
              "      <td>0.091866</td>\n",
              "      <td>0.096120</td>\n",
              "      <td>0.101321</td>\n",
              "      <td>0.098002</td>\n",
              "      <td>0.106056</td>\n",
              "      <td>0.103344</td>\n",
              "      <td>0.092729</td>\n",
              "      <td>0.083855</td>\n",
              "      <td>0.074062</td>\n",
              "      <td>0.103003</td>\n",
              "      <td>0.153866</td>\n",
              "      <td>0.139111</td>\n",
              "      <td>0.022726</td>\n",
              "      <td>0.050612</td>\n",
              "      <td>0.132145</td>\n",
              "      <td>0.096679</td>\n",
              "      <td>0.114216</td>\n",
              "      <td>0.105811</td>\n",
              "      <td>0.109013</td>\n",
              "      <td>0.107159</td>\n",
              "      <td>...</td>\n",
              "      <td>11.393643</td>\n",
              "      <td>5.904188</td>\n",
              "      <td>25.048379</td>\n",
              "      <td>7.031125</td>\n",
              "      <td>0.788548</td>\n",
              "      <td>1.655644</td>\n",
              "      <td>6.174227</td>\n",
              "      <td>32.818999</td>\n",
              "      <td>109.366546</td>\n",
              "      <td>149.472938</td>\n",
              "      <td>36.947989</td>\n",
              "      <td>27.736384</td>\n",
              "      <td>37.756247</td>\n",
              "      <td>7.210273</td>\n",
              "      <td>14.129963</td>\n",
              "      <td>3.854782</td>\n",
              "      <td>50.735693</td>\n",
              "      <td>67.695200</td>\n",
              "      <td>13.747791</td>\n",
              "      <td>9.085017</td>\n",
              "      <td>17.124952</td>\n",
              "      <td>42.433532</td>\n",
              "      <td>44.845372</td>\n",
              "      <td>23.957747</td>\n",
              "      <td>4.579092</td>\n",
              "      <td>11.246239</td>\n",
              "      <td>41.217755</td>\n",
              "      <td>6.942480</td>\n",
              "      <td>0.073716</td>\n",
              "      <td>4.361473</td>\n",
              "      <td>13.960107</td>\n",
              "      <td>6.620344</td>\n",
              "      <td>1.826725</td>\n",
              "      <td>12.591117</td>\n",
              "      <td>23.735274</td>\n",
              "      <td>22.399912</td>\n",
              "      <td>9.117025</td>\n",
              "      <td>12.191837</td>\n",
              "      <td>16.824196</td>\n",
              "      <td>0.404101</td>\n",
              "    </tr>\n",
              "    <tr>\n",
              "      <th>train00003.aiff</th>\n",
              "      <td>0.094505</td>\n",
              "      <td>0.087168</td>\n",
              "      <td>0.093006</td>\n",
              "      <td>0.152327</td>\n",
              "      <td>0.131468</td>\n",
              "      <td>0.042501</td>\n",
              "      <td>0.053550</td>\n",
              "      <td>0.099153</td>\n",
              "      <td>0.097915</td>\n",
              "      <td>0.093418</td>\n",
              "      <td>0.093545</td>\n",
              "      <td>0.099770</td>\n",
              "      <td>0.105475</td>\n",
              "      <td>0.110687</td>\n",
              "      <td>0.109804</td>\n",
              "      <td>0.104902</td>\n",
              "      <td>0.100165</td>\n",
              "      <td>0.102345</td>\n",
              "      <td>0.105368</td>\n",
              "      <td>0.092528</td>\n",
              "      <td>0.084841</td>\n",
              "      <td>0.090882</td>\n",
              "      <td>0.093051</td>\n",
              "      <td>0.101596</td>\n",
              "      <td>0.099331</td>\n",
              "      <td>0.083962</td>\n",
              "      <td>0.087774</td>\n",
              "      <td>0.095884</td>\n",
              "      <td>0.097191</td>\n",
              "      <td>0.094922</td>\n",
              "      <td>0.097203</td>\n",
              "      <td>0.107206</td>\n",
              "      <td>0.101304</td>\n",
              "      <td>0.099744</td>\n",
              "      <td>0.110569</td>\n",
              "      <td>0.168346</td>\n",
              "      <td>0.151853</td>\n",
              "      <td>0.049892</td>\n",
              "      <td>0.048117</td>\n",
              "      <td>0.084882</td>\n",
              "      <td>...</td>\n",
              "      <td>3.145900</td>\n",
              "      <td>28.109825</td>\n",
              "      <td>94.068938</td>\n",
              "      <td>78.215715</td>\n",
              "      <td>12.130441</td>\n",
              "      <td>4.400193</td>\n",
              "      <td>5.430708</td>\n",
              "      <td>36.745463</td>\n",
              "      <td>113.373542</td>\n",
              "      <td>90.883104</td>\n",
              "      <td>13.926625</td>\n",
              "      <td>105.441079</td>\n",
              "      <td>129.918427</td>\n",
              "      <td>38.290400</td>\n",
              "      <td>0.083753</td>\n",
              "      <td>25.863579</td>\n",
              "      <td>184.922441</td>\n",
              "      <td>118.740753</td>\n",
              "      <td>35.169765</td>\n",
              "      <td>81.483410</td>\n",
              "      <td>47.725824</td>\n",
              "      <td>2.850462</td>\n",
              "      <td>4.422661</td>\n",
              "      <td>8.830523</td>\n",
              "      <td>71.829272</td>\n",
              "      <td>76.848619</td>\n",
              "      <td>46.962403</td>\n",
              "      <td>13.156709</td>\n",
              "      <td>1.799695</td>\n",
              "      <td>32.986099</td>\n",
              "      <td>25.414674</td>\n",
              "      <td>54.308283</td>\n",
              "      <td>50.471178</td>\n",
              "      <td>39.791219</td>\n",
              "      <td>20.454269</td>\n",
              "      <td>60.480539</td>\n",
              "      <td>150.188974</td>\n",
              "      <td>100.698584</td>\n",
              "      <td>27.933017</td>\n",
              "      <td>51.114037</td>\n",
              "    </tr>\n",
              "    <tr>\n",
              "      <th>train00004.aiff</th>\n",
              "      <td>0.046272</td>\n",
              "      <td>0.051663</td>\n",
              "      <td>0.085813</td>\n",
              "      <td>0.087076</td>\n",
              "      <td>0.097217</td>\n",
              "      <td>0.102125</td>\n",
              "      <td>0.102598</td>\n",
              "      <td>0.103876</td>\n",
              "      <td>0.099584</td>\n",
              "      <td>0.096484</td>\n",
              "      <td>0.101588</td>\n",
              "      <td>0.100422</td>\n",
              "      <td>0.096427</td>\n",
              "      <td>0.103304</td>\n",
              "      <td>0.101569</td>\n",
              "      <td>0.098471</td>\n",
              "      <td>0.102600</td>\n",
              "      <td>0.098286</td>\n",
              "      <td>0.098481</td>\n",
              "      <td>0.111673</td>\n",
              "      <td>0.107746</td>\n",
              "      <td>0.099054</td>\n",
              "      <td>0.097934</td>\n",
              "      <td>0.092952</td>\n",
              "      <td>0.083611</td>\n",
              "      <td>0.091817</td>\n",
              "      <td>0.100185</td>\n",
              "      <td>0.098545</td>\n",
              "      <td>0.104720</td>\n",
              "      <td>0.116060</td>\n",
              "      <td>0.186073</td>\n",
              "      <td>0.154475</td>\n",
              "      <td>0.050098</td>\n",
              "      <td>0.057016</td>\n",
              "      <td>0.089568</td>\n",
              "      <td>0.090216</td>\n",
              "      <td>0.093345</td>\n",
              "      <td>0.099727</td>\n",
              "      <td>0.111685</td>\n",
              "      <td>0.119094</td>\n",
              "      <td>...</td>\n",
              "      <td>7.418592</td>\n",
              "      <td>92.194238</td>\n",
              "      <td>13.855007</td>\n",
              "      <td>122.557060</td>\n",
              "      <td>110.437223</td>\n",
              "      <td>62.990240</td>\n",
              "      <td>48.256154</td>\n",
              "      <td>21.146959</td>\n",
              "      <td>30.632282</td>\n",
              "      <td>17.373778</td>\n",
              "      <td>40.593755</td>\n",
              "      <td>76.695553</td>\n",
              "      <td>63.781150</td>\n",
              "      <td>63.488511</td>\n",
              "      <td>98.599166</td>\n",
              "      <td>76.494506</td>\n",
              "      <td>69.359899</td>\n",
              "      <td>67.337478</td>\n",
              "      <td>8.525026</td>\n",
              "      <td>34.085442</td>\n",
              "      <td>119.000018</td>\n",
              "      <td>95.742547</td>\n",
              "      <td>13.498335</td>\n",
              "      <td>195.742355</td>\n",
              "      <td>112.519086</td>\n",
              "      <td>36.449001</td>\n",
              "      <td>79.384833</td>\n",
              "      <td>33.642141</td>\n",
              "      <td>33.618330</td>\n",
              "      <td>100.038670</td>\n",
              "      <td>127.593808</td>\n",
              "      <td>154.603321</td>\n",
              "      <td>189.184693</td>\n",
              "      <td>44.923291</td>\n",
              "      <td>0.157068</td>\n",
              "      <td>6.241901</td>\n",
              "      <td>35.208415</td>\n",
              "      <td>66.001433</td>\n",
              "      <td>2.440332</td>\n",
              "      <td>119.455716</td>\n",
              "    </tr>\n",
              "    <tr>\n",
              "      <th>train00005.aiff</th>\n",
              "      <td>0.107677</td>\n",
              "      <td>0.112647</td>\n",
              "      <td>0.106642</td>\n",
              "      <td>0.099382</td>\n",
              "      <td>0.092492</td>\n",
              "      <td>0.104994</td>\n",
              "      <td>0.163441</td>\n",
              "      <td>0.138776</td>\n",
              "      <td>0.047680</td>\n",
              "      <td>0.044006</td>\n",
              "      <td>0.083511</td>\n",
              "      <td>0.091786</td>\n",
              "      <td>0.090423</td>\n",
              "      <td>0.094926</td>\n",
              "      <td>0.107299</td>\n",
              "      <td>0.108773</td>\n",
              "      <td>0.106375</td>\n",
              "      <td>0.111296</td>\n",
              "      <td>0.106267</td>\n",
              "      <td>0.093171</td>\n",
              "      <td>0.091635</td>\n",
              "      <td>0.094508</td>\n",
              "      <td>0.092577</td>\n",
              "      <td>0.107710</td>\n",
              "      <td>0.102575</td>\n",
              "      <td>0.112180</td>\n",
              "      <td>0.090698</td>\n",
              "      <td>0.091610</td>\n",
              "      <td>0.104817</td>\n",
              "      <td>0.084442</td>\n",
              "      <td>0.100121</td>\n",
              "      <td>0.089432</td>\n",
              "      <td>0.109364</td>\n",
              "      <td>0.114198</td>\n",
              "      <td>0.100521</td>\n",
              "      <td>0.100434</td>\n",
              "      <td>0.084422</td>\n",
              "      <td>0.102181</td>\n",
              "      <td>0.164983</td>\n",
              "      <td>0.131027</td>\n",
              "      <td>...</td>\n",
              "      <td>126.690513</td>\n",
              "      <td>36.658349</td>\n",
              "      <td>0.363005</td>\n",
              "      <td>63.827218</td>\n",
              "      <td>106.788990</td>\n",
              "      <td>262.136131</td>\n",
              "      <td>577.055313</td>\n",
              "      <td>303.743861</td>\n",
              "      <td>65.123797</td>\n",
              "      <td>10.475478</td>\n",
              "      <td>1.300465</td>\n",
              "      <td>0.694849</td>\n",
              "      <td>25.423792</td>\n",
              "      <td>52.472997</td>\n",
              "      <td>43.640128</td>\n",
              "      <td>8.697853</td>\n",
              "      <td>218.762302</td>\n",
              "      <td>19.700282</td>\n",
              "      <td>33.649101</td>\n",
              "      <td>313.994161</td>\n",
              "      <td>164.048237</td>\n",
              "      <td>58.915965</td>\n",
              "      <td>338.297345</td>\n",
              "      <td>161.920971</td>\n",
              "      <td>31.339187</td>\n",
              "      <td>144.464143</td>\n",
              "      <td>94.675129</td>\n",
              "      <td>25.600400</td>\n",
              "      <td>18.429139</td>\n",
              "      <td>55.984293</td>\n",
              "      <td>818.349811</td>\n",
              "      <td>638.316169</td>\n",
              "      <td>255.905318</td>\n",
              "      <td>223.662617</td>\n",
              "      <td>167.522139</td>\n",
              "      <td>47.816370</td>\n",
              "      <td>2.397212</td>\n",
              "      <td>14.882543</td>\n",
              "      <td>99.071426</td>\n",
              "      <td>27.578218</td>\n",
              "    </tr>\n",
              "  </tbody>\n",
              "</table>\n",
              "<p>5 rows × 3540 columns</p>\n",
              "</div>"
            ],
            "text/plain": [
              "                     0         1     ...       3538        3539\n",
              "train00001.aiff  0.133811  0.072258  ...  27.582614   13.677962\n",
              "train00002.aiff  0.020418  0.028692  ...  16.824196    0.404101\n",
              "train00003.aiff  0.094505  0.087168  ...  27.933017   51.114037\n",
              "train00004.aiff  0.046272  0.051663  ...   2.440332  119.455716\n",
              "train00005.aiff  0.107677  0.112647  ...  99.071426   27.578218\n",
              "\n",
              "[5 rows x 3540 columns]"
            ]
          },
          "metadata": {
            "tags": []
          },
          "execution_count": 20
        }
      ]
    },
    {
      "cell_type": "code",
      "metadata": {
        "id": "5F2Fd9hUy7wW",
        "colab_type": "code",
        "colab": {}
      },
      "source": [
        "# we do not need these objects anymore so let's release them from memory\n",
        "del feature_dict\n",
        "del spec_dict"
      ],
      "execution_count": 0,
      "outputs": []
    },
    {
      "cell_type": "code",
      "metadata": {
        "id": "u9ue9WtOy7wY",
        "colab_type": "code",
        "colab": {}
      },
      "source": [
        "# let's save these variables for reuse\n",
        "np.save('X.npy',X)\n",
        "np.save('y.npy',np.array(labels['label'][X.index])[:N])"
      ],
      "execution_count": 0,
      "outputs": []
    },
    {
      "cell_type": "code",
      "metadata": {
        "id": "Z3Tp7GlkjDAy",
        "colab_type": "code",
        "colab": {}
      },
      "source": [
        ""
      ],
      "execution_count": 0,
      "outputs": []
    },
    {
      "cell_type": "markdown",
      "metadata": {
        "id": "mfAkIStBy7wb",
        "colab_type": "text"
      },
      "source": [
        "### References:\n",
        "\n",
        "https://www.kaggle.com/c/whale-detection-challenge\n",
        "\n",
        "https://github.com/jaimeps/whale-sound-classification"
      ]
    },
    {
      "cell_type": "code",
      "metadata": {
        "id": "lG_hIFhQy7wc",
        "colab_type": "code",
        "colab": {}
      },
      "source": [
        ""
      ],
      "execution_count": 0,
      "outputs": []
    }
  ]
}