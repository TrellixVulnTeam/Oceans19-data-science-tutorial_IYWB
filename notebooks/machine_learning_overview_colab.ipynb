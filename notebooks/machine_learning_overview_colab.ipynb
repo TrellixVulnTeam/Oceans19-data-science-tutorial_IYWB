{
  "nbformat": 4,
  "nbformat_minor": 0,
  "metadata": {
    "kernelspec": {
      "display_name": "Python 3",
      "language": "python",
      "name": "python3"
    },
    "language_info": {
      "codemirror_mode": {
        "name": "ipython",
        "version": 3
      },
      "file_extension": ".py",
      "mimetype": "text/x-python",
      "name": "python",
      "nbconvert_exporter": "python",
      "pygments_lexer": "ipython3",
      "version": "3.7.3"
    },
    "colab": {
      "name": "machine-learning-overview_colab.ipynb",
      "provenance": [],
      "collapsed_sections": [],
      "include_colab_link": true
    }
  },
  "cells": [
    {
      "cell_type": "markdown",
      "metadata": {
        "id": "view-in-github",
        "colab_type": "text"
      },
      "source": [
        "<a href=\"https://colab.research.google.com/github/oceanhackweek/Oceans19-data-science-tutorial/blob/master/notebooks/machine_learning_overview_colab.ipynb\" target=\"_parent\"><img src=\"https://colab.research.google.com/assets/colab-badge.svg\" alt=\"Open In Colab\"/></a>"
      ]
    },
    {
      "cell_type": "markdown",
      "metadata": {
        "id": "1B93rgONjWki",
        "colab_type": "text"
      },
      "source": [
        "**Machine Learning Categories**:\n",
        "* Supervised Learning\n",
        "* Unsupervised Learning\n",
        "* Semi-supervised Learning\n",
        "* Reinforcement Learning"
      ]
    },
    {
      "cell_type": "markdown",
      "metadata": {
        "id": "kigpKAIfjWkk",
        "colab_type": "text"
      },
      "source": [
        "### Some popular Machine Learning Tasks \n",
        "(and a roadmap for solving them Andrea Mueller '13)"
      ]
    },
    {
      "cell_type": "markdown",
      "metadata": {
        "id": "GH-ReF4hjWkm",
        "colab_type": "text"
      },
      "source": [
        "![](https://github.com/oceanhackweek/ohw19-tutorial-machine-learning/blob/master/img/MLmap.png?raw=1)"
      ]
    },
    {
      "cell_type": "markdown",
      "metadata": {
        "id": "Z_0FCK0GjWks",
        "colab_type": "text"
      },
      "source": [
        "**Regression:** each observation has a corresponding output value. We want to learn a mapping which can predict the labels of future observations which do not have output values."
      ]
    },
    {
      "cell_type": "markdown",
      "metadata": {
        "id": "PagjSHkDyg4f",
        "colab_type": "text"
      },
      "source": [
        "**Classification:** each observation has a corresponding output value, which is a category. We want to learn a mapping which can predict the labels of future observations which do not have categories."
      ]
    },
    {
      "cell_type": "markdown",
      "metadata": {
        "id": "YEdeHAQIjWkt",
        "colab_type": "text"
      },
      "source": [
        "**Clustering:** combine the observations into several groups according to some measure of 'closeness'."
      ]
    },
    {
      "cell_type": "markdown",
      "metadata": {
        "id": "jdUTxAnijWkv",
        "colab_type": "text"
      },
      "source": [
        "**Dimensionality Reduction:** embed the observations into a smaller dimensional space by preserving some measure of 'closeness'."
      ]
    },
    {
      "cell_type": "markdown",
      "metadata": {
        "id": "qavb_2ezjWkx",
        "colab_type": "text"
      },
      "source": [
        "## Example of Applications in Oceanography"
      ]
    },
    {
      "cell_type": "markdown",
      "metadata": {
        "id": "DugZEfQ3jWkz",
        "colab_type": "text"
      },
      "source": [
        "**Classification:** Quality Control with Machine Learning\n",
        "\n",
        "Detect outliers in hydrographic profiles.\n",
        "\n",
        "* Annotations of outliers\n",
        "\n",
        "![](https://github.com/oceanhackweek/ohw19-tutorial-machine-learning/blob/master/img/Labels.png?raw=1)\n",
        "\n",
        "* Set of Features\n",
        "\n",
        "![](https://github.com/oceanhackweek/ohw19-tutorial-machine-learning/blob/master/img/Features.png?raw=1)\n",
        "\n",
        "Guilherme P. Castelão, *A Flexible System for Automatic Quality Control of Oceanographic Data*, [https://arxiv.org/pdf/1503.02714.pdf](https://arxiv.org/pdf/1503.02714.pdf)\n"
      ]
    },
    {
      "cell_type": "markdown",
      "metadata": {
        "id": "XyMYEIAVjWk1",
        "colab_type": "text"
      },
      "source": [
        "**Regression:** Sea Surface Temperature Interpolation with Gaussian Process regression.\n",
        "\n",
        "Argo Raw Data\n",
        "\n",
        "<img src = img/Argo_raw.png width=\"600\">\n",
        "\n",
        "Argo Predictions\n",
        "\n",
        "![Argo Predictions](https://github.com/oceanhackweek/ohw19-tutorial-machine-learning/blob/master/img/Argo_Predictions.png?raw=1)\n",
        "\n"
      ]
    },
    {
      "cell_type": "markdown",
      "metadata": {
        "id": "3whQ0WOojWk6",
        "colab_type": "text"
      },
      "source": [
        "Mikael Kuusela and Michael L. Stein, Locally stationary spatio-temporal interpolation of Argo profiling float data [https://arxiv.org/abs/1711.00460](https://arxiv.org/abs/1711.00460)"
      ]
    },
    {
      "cell_type": "markdown",
      "metadata": {
        "id": "-icAJM1VjWk7",
        "colab_type": "text"
      },
      "source": [
        "**Dimensionality Reduction**: PCA of Sea Surface Temperature\n",
        "    \n",
        "![](https://github.com/oceanhackweek/ohw19-tutorial-machine-learning/blob/master/img/ElNinoEOF.png?raw=1)"
      ]
    },
    {
      "cell_type": "markdown",
      "metadata": {
        "id": "FHxWeS6ajWk9",
        "colab_type": "text"
      },
      "source": [
        "**Clustering:**\n",
        "\n",
        "Marine Bacteria Gene Clustering \n",
        "\n",
        "![](https://github.com/oceanhackweek/ohw19-tutorial-machine-learning/blob/master/img/gene_clustering.png?raw=1)\n",
        "\n",
        "\n",
        "\n",
        "Leão T, Castelão G, Korobeynikov A, Monroe EA, Podell S, Glukhov E, Allen EE, Gerwick WH, Gerwick L. 2017. Comparative genomics uncovers the prolific and distinctive metabolic potential of the cyanobacterial genus Moorea. Proc Natl Acad Sci U S A 114:3198–3203. doi:10.1073/pnas.1618556114."
      ]
    },
    {
      "cell_type": "markdown",
      "metadata": {
        "id": "nF6pLoNWjWlB",
        "colab_type": "text"
      },
      "source": [
        "### Oceanography Data Comes in all Sizes and Shapes"
      ]
    },
    {
      "cell_type": "markdown",
      "metadata": {
        "id": "Lj8zJaxNjWlE",
        "colab_type": "text"
      },
      "source": [
        "Oceans can be observed through multiple sensors at many different scales. Oceans are complex ecosystems and this results in abundance of intercorrelated measurements. Many machine learning techniques make assumptions about the data being in a specific format with explicit independence constraints. To apply standard techniques, and extract meaningful information from the data, researchers often need to transform them into a standard format so that they can be run through existing libraries."
      ]
    },
    {
      "cell_type": "markdown",
      "metadata": {
        "id": "Jlr0njW5jWlH",
        "colab_type": "text"
      },
      "source": [
        "<img src = img/ocean_data.png width=\"600\">"
      ]
    },
    {
      "cell_type": "markdown",
      "metadata": {
        "id": "_NW9cNL4jWlJ",
        "colab_type": "text"
      },
      "source": [
        "### Feature Extraction"
      ]
    },
    {
      "cell_type": "markdown",
      "metadata": {
        "id": "bbmT_JbRjWlL",
        "colab_type": "text"
      },
      "source": [
        "Many of the existing machine learning libraries assume observations are represented by a set of features and can be stored in a table format. But oceanography data often has time, spatial, frequency, channel or other dimensions. \n",
        "\n",
        "\n",
        "<img src=\"https://github.com/oceanhackweek/ohw19-tutorial-machine-learning/blob/master/img/feature_table.png?raw=1\" width=300>       <img src=\"https://github.com/oceanhackweek/ohw19-tutorial-machine-learning/blob/master/img/dataset-diagram.png?raw=1\" width=300>\n",
        "\n",
        "[Image Source](https://www.superhumaninvesting.com/understand-machine-learning-five-minutes/)\n",
        "\n",
        "This requires either to extract simple features from the compex data, or use machine learning libraries which can handle complex relationships.\n"
      ]
    },
    {
      "cell_type": "markdown",
      "metadata": {
        "id": "eng3BWoejWlN",
        "colab_type": "text"
      },
      "source": [
        "### What about Deep Learning?\n",
        "\n",
        "Can't deep learning solve all problems?"
      ]
    },
    {
      "cell_type": "markdown",
      "metadata": {
        "id": "sIXSACNWjWlP",
        "colab_type": "text"
      },
      "source": [
        "![](https://github.com/oceanhackweek/ohw19-tutorial-machine-learning/blob/master/img/ML_DL.png?raw=1)"
      ]
    },
    {
      "cell_type": "markdown",
      "metadata": {
        "id": "fB2f1libjWlR",
        "colab_type": "text"
      },
      "source": [
        "Deep learning is the methodology of using deep neural networks to solve machine learning problems.\n",
        "\n",
        "![](https://github.com/oceanhackweek/ohw19-tutorial-machine-learning/blob/master/History_DL.png?raw=1)\n",
        "\n",
        "Li Deng and Dong Yu: Deep Learning Methods and Applications.\n",
        "Foundations and Trends in Signal Processing, 7 (3-4), 197-387. 2014.)"
      ]
    },
    {
      "cell_type": "markdown",
      "metadata": {
        "id": "rgz9s7uDjWlU",
        "colab_type": "text"
      },
      "source": [
        "#### Shallow vs Deep Learning\n",
        "\n",
        "![a](https://github.com/oceanhackweek/ohw19-tutorial-machine-learning/blob/master/img/LogisticRegressionNN.png?raw=1)\n",
        "\n",
        "Logistic Regression is a single layer neural network.\n",
        "\n",
        "Image Source: http://samuelhermanblog.blogspot.com/2017/01/deep-learning-part-1-logistic.html"
      ]
    },
    {
      "cell_type": "markdown",
      "metadata": {
        "id": "I1EKnqxxjWlW",
        "colab_type": "text"
      },
      "source": [
        "<!--[](https://i.stack.imgur.com/fKvva.png)-->"
      ]
    },
    {
      "cell_type": "markdown",
      "metadata": {
        "id": "z0GpMyzTjWlZ",
        "colab_type": "text"
      },
      "source": [
        "Fully connected networks have too many paramaters:\n",
        "\n",
        "$$\\# \\textrm{parameters for two fully connected layers} \\approx \\# \\textrm{ neurons in layer}_1 \\times \\# \\textrm{ neurons in layer}_2 \\times +  \\#\\textrm{ neurons in layer}_2 $$"
      ]
    },
    {
      "cell_type": "code",
      "metadata": {
        "id": "OsIhJy39jWla",
        "colab_type": "code",
        "colab": {}
      },
      "source": [
        "# 5 x 100\n",
        "\n",
        "(100*100+100)*5"
      ],
      "execution_count": 0,
      "outputs": []
    },
    {
      "cell_type": "markdown",
      "metadata": {
        "id": "ElsRxq0fjWlh",
        "colab_type": "text"
      },
      "source": [
        "With sufficiently enough parameters a fully connected network can perfectly predict the labels. "
      ]
    },
    {
      "cell_type": "markdown",
      "metadata": {
        "id": "__szVgLOjWlj",
        "colab_type": "text"
      },
      "source": [
        "### Bias-Variance Trade-off"
      ]
    },
    {
      "cell_type": "markdown",
      "metadata": {
        "id": "m3daTaq3jWll",
        "colab_type": "text"
      },
      "source": [
        "![](https://github.com/oceanhackweek/ohw19-tutorial-machine-learning/blob/master/img/target_bias_variance_tradeoff.png?raw=1)\n",
        "![](https://github.com/oceanhackweek/ohw19-tutorial-machine-learning/blob/master/img/bias_variance_tradeoff.png?raw=1)\n",
        "https://djsaunde.wordpress.com/2017/07/17/the-bias-variance-tradeoff/"
      ]
    },
    {
      "cell_type": "markdown",
      "metadata": {
        "id": "_m17GyO4jWlm",
        "colab_type": "text"
      },
      "source": [
        ""
      ]
    },
    {
      "cell_type": "markdown",
      "metadata": {
        "id": "Cf-HAYlUjWlo",
        "colab_type": "text"
      },
      "source": [
        ""
      ]
    },
    {
      "cell_type": "markdown",
      "metadata": {
        "id": "IRHqHr79jWlp",
        "colab_type": "text"
      },
      "source": [
        ""
      ]
    },
    {
      "cell_type": "markdown",
      "metadata": {
        "id": "hXtDghcTjWlr",
        "colab_type": "text"
      },
      "source": [
        ""
      ]
    },
    {
      "cell_type": "code",
      "metadata": {
        "id": "VJo4lI5djWls",
        "colab_type": "code",
        "colab": {}
      },
      "source": [
        ""
      ],
      "execution_count": 0,
      "outputs": []
    },
    {
      "cell_type": "code",
      "metadata": {
        "id": "xys_U2dAjWlx",
        "colab_type": "code",
        "colab": {}
      },
      "source": [
        ""
      ],
      "execution_count": 0,
      "outputs": []
    }
  ]
}